{
 "cells": [
  {
   "cell_type": "code",
   "execution_count": 1,
   "id": "5ae74804",
   "metadata": {},
   "outputs": [],
   "source": [
    "# plot\n",
    "#outlier\n",
    "#lagplot\n",
    "#Autocorrelation--- ACF and PACF\n",
    "#Stationarity Check --need to convert if it not stationary\n",
    "#Transforming Time series---to remove noise and imporve the signal---to make the data linear---\n",
    "###Square root transform /log transform(exp to linear)\n"
   ]
  },
  {
   "cell_type": "code",
   "execution_count": 2,
   "id": "50ccc37b",
   "metadata": {},
   "outputs": [],
   "source": [
    "import numpy as np\n",
    "import pandas as pd\n",
    "import matplotlib.pyplot as plt\n",
    "import seaborn as sns\n",
    "from scipy.stats import boxcox \n",
    "from sklearn import preprocessing\n",
    "import statsmodels.api as sm\n",
    "from statsmodels.tsa.stattools import adfuller\n",
    "%matplotlib inline"
   ]
  },
  {
   "cell_type": "code",
   "execution_count": 3,
   "id": "b1190f0e",
   "metadata": {},
   "outputs": [],
   "source": [
    "import warnings\n",
    "warnings.filterwarnings('ignore')"
   ]
  },
  {
   "cell_type": "code",
   "execution_count": 4,
   "id": "ec581108",
   "metadata": {},
   "outputs": [
    {
     "data": {
      "text/html": [
       "<div>\n",
       "<style scoped>\n",
       "    .dataframe tbody tr th:only-of-type {\n",
       "        vertical-align: middle;\n",
       "    }\n",
       "\n",
       "    .dataframe tbody tr th {\n",
       "        vertical-align: top;\n",
       "    }\n",
       "\n",
       "    .dataframe thead th {\n",
       "        text-align: right;\n",
       "    }\n",
       "</style>\n",
       "<table border=\"1\" class=\"dataframe\">\n",
       "  <thead>\n",
       "    <tr style=\"text-align: right;\">\n",
       "      <th></th>\n",
       "      <th>SpotPrice</th>\n",
       "    </tr>\n",
       "    <tr>\n",
       "      <th>Date</th>\n",
       "      <th></th>\n",
       "    </tr>\n",
       "  </thead>\n",
       "  <tbody>\n",
       "    <tr>\n",
       "      <th>2016-10-03</th>\n",
       "      <td>48.61</td>\n",
       "    </tr>\n",
       "    <tr>\n",
       "      <th>2016-10-04</th>\n",
       "      <td>48.81</td>\n",
       "    </tr>\n",
       "    <tr>\n",
       "      <th>2016-10-05</th>\n",
       "      <td>49.57</td>\n",
       "    </tr>\n",
       "    <tr>\n",
       "      <th>2016-10-06</th>\n",
       "      <td>50.14</td>\n",
       "    </tr>\n",
       "    <tr>\n",
       "      <th>2016-10-07</th>\n",
       "      <td>50.49</td>\n",
       "    </tr>\n",
       "    <tr>\n",
       "      <th>2016-10-10</th>\n",
       "      <td>51.54</td>\n",
       "    </tr>\n",
       "    <tr>\n",
       "      <th>2016-10-11</th>\n",
       "      <td>50.48</td>\n",
       "    </tr>\n",
       "    <tr>\n",
       "      <th>2016-10-12</th>\n",
       "      <td>49.53</td>\n",
       "    </tr>\n",
       "    <tr>\n",
       "      <th>2016-10-13</th>\n",
       "      <td>49.29</td>\n",
       "    </tr>\n",
       "    <tr>\n",
       "      <th>2016-10-14</th>\n",
       "      <td>48.87</td>\n",
       "    </tr>\n",
       "  </tbody>\n",
       "</table>\n",
       "</div>"
      ],
      "text/plain": [
       "            SpotPrice\n",
       "Date                 \n",
       "2016-10-03      48.61\n",
       "2016-10-04      48.81\n",
       "2016-10-05      49.57\n",
       "2016-10-06      50.14\n",
       "2016-10-07      50.49\n",
       "2016-10-10      51.54\n",
       "2016-10-11      50.48\n",
       "2016-10-12      49.53\n",
       "2016-10-13      49.29\n",
       "2016-10-14      48.87"
      ]
     },
     "execution_count": 4,
     "metadata": {},
     "output_type": "execute_result"
    }
   ],
   "source": [
    "oil=pd.read_excel('Brent.xls', index_col=[0],parse_dates = [0] )\n",
    "oil.head(10)"
   ]
  },
  {
   "cell_type": "code",
   "execution_count": 5,
   "id": "3d321508",
   "metadata": {},
   "outputs": [
    {
     "data": {
      "text/html": [
       "<div>\n",
       "<style scoped>\n",
       "    .dataframe tbody tr th:only-of-type {\n",
       "        vertical-align: middle;\n",
       "    }\n",
       "\n",
       "    .dataframe tbody tr th {\n",
       "        vertical-align: top;\n",
       "    }\n",
       "\n",
       "    .dataframe thead th {\n",
       "        text-align: right;\n",
       "    }\n",
       "</style>\n",
       "<table border=\"1\" class=\"dataframe\">\n",
       "  <thead>\n",
       "    <tr style=\"text-align: right;\">\n",
       "      <th></th>\n",
       "      <th>SpotPrice</th>\n",
       "    </tr>\n",
       "    <tr>\n",
       "      <th>Date</th>\n",
       "      <th></th>\n",
       "    </tr>\n",
       "  </thead>\n",
       "  <tbody>\n",
       "    <tr>\n",
       "      <th>2021-11-09</th>\n",
       "      <td>84.52</td>\n",
       "    </tr>\n",
       "    <tr>\n",
       "      <th>2021-11-10</th>\n",
       "      <td>82.91</td>\n",
       "    </tr>\n",
       "    <tr>\n",
       "      <th>2021-11-11</th>\n",
       "      <td>83.40</td>\n",
       "    </tr>\n",
       "    <tr>\n",
       "      <th>2021-11-12</th>\n",
       "      <td>82.90</td>\n",
       "    </tr>\n",
       "    <tr>\n",
       "      <th>2021-11-15</th>\n",
       "      <td>81.94</td>\n",
       "    </tr>\n",
       "    <tr>\n",
       "      <th>2021-11-16</th>\n",
       "      <td>82.85</td>\n",
       "    </tr>\n",
       "    <tr>\n",
       "      <th>2021-11-17</th>\n",
       "      <td>80.67</td>\n",
       "    </tr>\n",
       "    <tr>\n",
       "      <th>2021-11-18</th>\n",
       "      <td>82.45</td>\n",
       "    </tr>\n",
       "    <tr>\n",
       "      <th>2021-11-19</th>\n",
       "      <td>80.24</td>\n",
       "    </tr>\n",
       "    <tr>\n",
       "      <th>2021-11-22</th>\n",
       "      <td>80.97</td>\n",
       "    </tr>\n",
       "  </tbody>\n",
       "</table>\n",
       "</div>"
      ],
      "text/plain": [
       "            SpotPrice\n",
       "Date                 \n",
       "2021-11-09      84.52\n",
       "2021-11-10      82.91\n",
       "2021-11-11      83.40\n",
       "2021-11-12      82.90\n",
       "2021-11-15      81.94\n",
       "2021-11-16      82.85\n",
       "2021-11-17      80.67\n",
       "2021-11-18      82.45\n",
       "2021-11-19      80.24\n",
       "2021-11-22      80.97"
      ]
     },
     "execution_count": 5,
     "metadata": {},
     "output_type": "execute_result"
    }
   ],
   "source": [
    "oil.tail(10)"
   ]
  },
  {
   "cell_type": "code",
   "execution_count": 6,
   "id": "df094cdf",
   "metadata": {},
   "outputs": [
    {
     "data": {
      "text/plain": [
       "pandas.core.frame.DataFrame"
      ]
     },
     "execution_count": 6,
     "metadata": {},
     "output_type": "execute_result"
    }
   ],
   "source": [
    "type(oil)"
   ]
  },
  {
   "cell_type": "code",
   "execution_count": 7,
   "id": "f500125a",
   "metadata": {},
   "outputs": [
    {
     "data": {
      "text/plain": [
       "array([[48.61],\n",
       "       [48.81],\n",
       "       [49.57],\n",
       "       ...,\n",
       "       [82.45],\n",
       "       [80.24],\n",
       "       [80.97]])"
      ]
     },
     "execution_count": 7,
     "metadata": {},
     "output_type": "execute_result"
    }
   ],
   "source": [
    "# Converting into series\n",
    "series_value = oil.values\n",
    "series_value"
   ]
  },
  {
   "cell_type": "code",
   "execution_count": 8,
   "id": "f2564f1d",
   "metadata": {},
   "outputs": [],
   "source": [
    "#type(series_value)"
   ]
  },
  {
   "cell_type": "code",
   "execution_count": 9,
   "id": "42ddc307",
   "metadata": {},
   "outputs": [
    {
     "data": {
      "text/plain": [
       "1309"
      ]
     },
     "execution_count": 9,
     "metadata": {},
     "output_type": "execute_result"
    }
   ],
   "source": [
    "oil.size"
   ]
  },
  {
   "cell_type": "code",
   "execution_count": 10,
   "id": "1efed9dd",
   "metadata": {},
   "outputs": [
    {
     "data": {
      "text/html": [
       "<div>\n",
       "<style scoped>\n",
       "    .dataframe tbody tr th:only-of-type {\n",
       "        vertical-align: middle;\n",
       "    }\n",
       "\n",
       "    .dataframe tbody tr th {\n",
       "        vertical-align: top;\n",
       "    }\n",
       "\n",
       "    .dataframe thead th {\n",
       "        text-align: right;\n",
       "    }\n",
       "</style>\n",
       "<table border=\"1\" class=\"dataframe\">\n",
       "  <thead>\n",
       "    <tr style=\"text-align: right;\">\n",
       "      <th></th>\n",
       "      <th>SpotPrice</th>\n",
       "    </tr>\n",
       "  </thead>\n",
       "  <tbody>\n",
       "    <tr>\n",
       "      <th>count</th>\n",
       "      <td>1309.000000</td>\n",
       "    </tr>\n",
       "    <tr>\n",
       "      <th>mean</th>\n",
       "      <td>59.626753</td>\n",
       "    </tr>\n",
       "    <tr>\n",
       "      <th>std</th>\n",
       "      <td>13.479875</td>\n",
       "    </tr>\n",
       "    <tr>\n",
       "      <th>min</th>\n",
       "      <td>9.120000</td>\n",
       "    </tr>\n",
       "    <tr>\n",
       "      <th>25%</th>\n",
       "      <td>50.960000</td>\n",
       "    </tr>\n",
       "    <tr>\n",
       "      <th>50%</th>\n",
       "      <td>61.500000</td>\n",
       "    </tr>\n",
       "    <tr>\n",
       "      <th>75%</th>\n",
       "      <td>69.290000</td>\n",
       "    </tr>\n",
       "    <tr>\n",
       "      <th>max</th>\n",
       "      <td>86.070000</td>\n",
       "    </tr>\n",
       "  </tbody>\n",
       "</table>\n",
       "</div>"
      ],
      "text/plain": [
       "         SpotPrice\n",
       "count  1309.000000\n",
       "mean     59.626753\n",
       "std      13.479875\n",
       "min       9.120000\n",
       "25%      50.960000\n",
       "50%      61.500000\n",
       "75%      69.290000\n",
       "max      86.070000"
      ]
     },
     "execution_count": 10,
     "metadata": {},
     "output_type": "execute_result"
    }
   ],
   "source": [
    "oil.describe()"
   ]
  },
  {
   "cell_type": "code",
   "execution_count": null,
   "id": "0d9e6bc9",
   "metadata": {},
   "outputs": [],
   "source": []
  },
  {
   "cell_type": "markdown",
   "id": "4c3463eb",
   "metadata": {},
   "source": [
    "### Visualization"
   ]
  },
  {
   "cell_type": "code",
   "execution_count": 11,
   "id": "760b977a",
   "metadata": {
    "scrolled": true
   },
   "outputs": [
    {
     "data": {
      "text/plain": [
       "<AxesSubplot:xlabel='Date'>"
      ]
     },
     "execution_count": 11,
     "metadata": {},
     "output_type": "execute_result"
    },
    {
     "data": {
      "image/png": "[encoded data removed]",
      "text/plain": [
       "<Figure size 432x288 with 1 Axes>"
      ]
     },
     "metadata": {
      "needs_background": "light"
     },
     "output_type": "display_data"
    }
   ],
   "source": [
    "oil.plot()"
   ]
  },
  {
   "cell_type": "code",
   "execution_count": 12,
   "id": "991bfbce",
   "metadata": {},
   "outputs": [
    {
     "data": {
      "image/png": "[encoded data removed]",
      "text/plain": [
       "<Figure size 1152x360 with 1 Axes>"
      ]
     },
     "metadata": {
      "needs_background": "light"
     },
     "output_type": "display_data"
    }
   ],
   "source": [
    "plt.figure(figsize=(16,5))\n",
    "sns.distplot(oil['SpotPrice'])\n",
    "plt.show()"
   ]
  },
  {
   "cell_type": "code",
   "execution_count": 13,
   "id": "dbe528b0",
   "metadata": {},
   "outputs": [
    {
     "data": {
      "image/png": "[encoded data removed]",
      "text/plain": [
       "<Figure size 432x288 with 1 Axes>"
      ]
     },
     "metadata": {
      "needs_background": "light"
     },
     "output_type": "display_data"
    }
   ],
   "source": [
    "sns.boxplot(oil['SpotPrice'])\n",
    "plt.show()"
   ]
  },
  {
   "cell_type": "code",
   "execution_count": null,
   "id": "87b23335",
   "metadata": {},
   "outputs": [],
   "source": []
  },
  {
   "cell_type": "markdown",
   "id": "9943a8a5",
   "metadata": {},
   "source": [
    "## Treating Outlier "
   ]
  },
  {
   "cell_type": "code",
   "execution_count": 14,
   "id": "aa88ad45",
   "metadata": {},
   "outputs": [],
   "source": [
    "for i in oil:\n",
    "    oil[i],lmbda=boxcox(oil[i], lmbda=None)"
   ]
  },
  {
   "cell_type": "code",
   "execution_count": 15,
   "id": "e816789e",
   "metadata": {},
   "outputs": [
    {
     "data": {
      "text/html": [
       "<div>\n",
       "<style scoped>\n",
       "    .dataframe tbody tr th:only-of-type {\n",
       "        vertical-align: middle;\n",
       "    }\n",
       "\n",
       "    .dataframe tbody tr th {\n",
       "        vertical-align: top;\n",
       "    }\n",
       "\n",
       "    .dataframe thead th {\n",
       "        text-align: right;\n",
       "    }\n",
       "</style>\n",
       "<table border=\"1\" class=\"dataframe\">\n",
       "  <thead>\n",
       "    <tr style=\"text-align: right;\">\n",
       "      <th></th>\n",
       "      <th>SpotPrice</th>\n",
       "    </tr>\n",
       "    <tr>\n",
       "      <th>Date</th>\n",
       "      <th></th>\n",
       "    </tr>\n",
       "  </thead>\n",
       "  <tbody>\n",
       "    <tr>\n",
       "      <th>2016-10-03</th>\n",
       "      <td>553.397368</td>\n",
       "    </tr>\n",
       "    <tr>\n",
       "      <th>2016-10-04</th>\n",
       "      <td>557.447404</td>\n",
       "    </tr>\n",
       "    <tr>\n",
       "      <th>2016-10-05</th>\n",
       "      <td>572.954788</td>\n",
       "    </tr>\n",
       "    <tr>\n",
       "      <th>2016-10-06</th>\n",
       "      <td>584.706869</td>\n",
       "    </tr>\n",
       "    <tr>\n",
       "      <th>2016-10-07</th>\n",
       "      <td>591.974553</td>\n",
       "    </tr>\n",
       "    <tr>\n",
       "      <th>...</th>\n",
       "      <td>...</td>\n",
       "    </tr>\n",
       "    <tr>\n",
       "      <th>2021-11-16</th>\n",
       "      <td>1426.055451</td>\n",
       "    </tr>\n",
       "    <tr>\n",
       "      <th>2021-11-17</th>\n",
       "      <td>1360.137800</td>\n",
       "    </tr>\n",
       "    <tr>\n",
       "      <th>2021-11-18</th>\n",
       "      <td>1413.858611</td>\n",
       "    </tr>\n",
       "    <tr>\n",
       "      <th>2021-11-19</th>\n",
       "      <td>1347.296577</td>\n",
       "    </tr>\n",
       "    <tr>\n",
       "      <th>2021-11-22</th>\n",
       "      <td>1369.128241</td>\n",
       "    </tr>\n",
       "  </tbody>\n",
       "</table>\n",
       "<p>1309 rows × 1 columns</p>\n",
       "</div>"
      ],
      "text/plain": [
       "              SpotPrice\n",
       "Date                   \n",
       "2016-10-03   553.397368\n",
       "2016-10-04   557.447404\n",
       "2016-10-05   572.954788\n",
       "2016-10-06   584.706869\n",
       "2016-10-07   591.974553\n",
       "...                 ...\n",
       "2021-11-16  1426.055451\n",
       "2021-11-17  1360.137800\n",
       "2021-11-18  1413.858611\n",
       "2021-11-19  1347.296577\n",
       "2021-11-22  1369.128241\n",
       "\n",
       "[1309 rows x 1 columns]"
      ]
     },
     "execution_count": 15,
     "metadata": {},
     "output_type": "execute_result"
    }
   ],
   "source": [
    "oil"
   ]
  },
  {
   "cell_type": "code",
   "execution_count": 16,
   "id": "f7ded78a",
   "metadata": {},
   "outputs": [
    {
     "data": {
      "text/plain": [
       "<AxesSubplot:ylabel='Density'>"
      ]
     },
     "execution_count": 16,
     "metadata": {},
     "output_type": "execute_result"
    },
    {
     "data": {
      "image/png": "[encoded data removed]",
      "text/plain": [
       "<Figure size 1152x360 with 1 Axes>"
      ]
     },
     "metadata": {
      "needs_background": "light"
     },
     "output_type": "display_data"
    }
   ],
   "source": [
    "plt.figure(figsize=(16,5))\n",
    "sns.distplot(oil)"
   ]
  },
  {
   "cell_type": "code",
   "execution_count": 17,
   "id": "12709d55",
   "metadata": {},
   "outputs": [
    {
     "data": {
      "text/plain": [
       "<AxesSubplot:xlabel='SpotPrice'>"
      ]
     },
     "execution_count": 17,
     "metadata": {},
     "output_type": "execute_result"
    },
    {
     "data": {
      "image/png": "[encoded data removed]",
      "text/plain": [
       "<Figure size 432x288 with 1 Axes>"
      ]
     },
     "metadata": {
      "needs_background": "light"
     },
     "output_type": "display_data"
    }
   ],
   "source": [
    "sns.boxplot(oil['SpotPrice'])"
   ]
  },
  {
   "cell_type": "code",
   "execution_count": 18,
   "id": "26127bd8",
   "metadata": {},
   "outputs": [
    {
     "data": {
      "text/plain": [
       "<AxesSubplot:xlabel='Date'>"
      ]
     },
     "execution_count": 18,
     "metadata": {},
     "output_type": "execute_result"
    },
    {
     "data": {
      "image/png": "[encoded data removed]",
      "text/plain": [
       "<Figure size 432x288 with 1 Axes>"
      ]
     },
     "metadata": {
      "needs_background": "light"
     },
     "output_type": "display_data"
    }
   ],
   "source": [
    "oil.plot()"
   ]
  },
  {
   "cell_type": "code",
   "execution_count": 19,
   "id": "0d3a5d24",
   "metadata": {},
   "outputs": [
    {
     "data": {
      "text/html": [
       "<div>\n",
       "<style scoped>\n",
       "    .dataframe tbody tr th:only-of-type {\n",
       "        vertical-align: middle;\n",
       "    }\n",
       "\n",
       "    .dataframe tbody tr th {\n",
       "        vertical-align: top;\n",
       "    }\n",
       "\n",
       "    .dataframe thead th {\n",
       "        text-align: right;\n",
       "    }\n",
       "</style>\n",
       "<table border=\"1\" class=\"dataframe\">\n",
       "  <thead>\n",
       "    <tr style=\"text-align: right;\">\n",
       "      <th></th>\n",
       "      <th>SpotPrice</th>\n",
       "    </tr>\n",
       "  </thead>\n",
       "  <tbody>\n",
       "    <tr>\n",
       "      <th>count</th>\n",
       "      <td>1309.000000</td>\n",
       "    </tr>\n",
       "    <tr>\n",
       "      <th>mean</th>\n",
       "      <td>823.731916</td>\n",
       "    </tr>\n",
       "    <tr>\n",
       "      <th>std</th>\n",
       "      <td>302.271393</td>\n",
       "    </tr>\n",
       "    <tr>\n",
       "      <th>min</th>\n",
       "      <td>27.891912</td>\n",
       "    </tr>\n",
       "    <tr>\n",
       "      <th>25%</th>\n",
       "      <td>601.795519</td>\n",
       "    </tr>\n",
       "    <tr>\n",
       "      <th>50%</th>\n",
       "      <td>840.260687</td>\n",
       "    </tr>\n",
       "    <tr>\n",
       "      <th>75%</th>\n",
       "      <td>1038.391780</td>\n",
       "    </tr>\n",
       "    <tr>\n",
       "      <th>max</th>\n",
       "      <td>1525.899416</td>\n",
       "    </tr>\n",
       "  </tbody>\n",
       "</table>\n",
       "</div>"
      ],
      "text/plain": [
       "         SpotPrice\n",
       "count  1309.000000\n",
       "mean    823.731916\n",
       "std     302.271393\n",
       "min      27.891912\n",
       "25%     601.795519\n",
       "50%     840.260687\n",
       "75%    1038.391780\n",
       "max    1525.899416"
      ]
     },
     "execution_count": 19,
     "metadata": {},
     "output_type": "execute_result"
    }
   ],
   "source": [
    "oil.describe()"
   ]
  },
  {
   "cell_type": "code",
   "execution_count": null,
   "id": "7672aa36",
   "metadata": {},
   "outputs": [],
   "source": []
  },
  {
   "cell_type": "markdown",
   "id": "fc376a65",
   "metadata": {},
   "source": [
    "### Data Normalization\n",
    "A scaler, in machine learning is a tool that uses a range and set all values that you pass to it within data range. The code belows handles that."
   ]
  },
  {
   "cell_type": "code",
   "execution_count": 20,
   "id": "84c1ae46",
   "metadata": {},
   "outputs": [],
   "source": [
    "#min_max_scaler = preprocessing.MinMaxScaler(feature_range=(0, 1))\n",
    "#dataset = min_max_scaler.fit_transform(oil.SpotPrice.values.reshape(-1, 1))\n",
    "#dataset[0:10]"
   ]
  },
  {
   "cell_type": "code",
   "execution_count": null,
   "id": "8649bdeb",
   "metadata": {},
   "outputs": [],
   "source": []
  },
  {
   "cell_type": "markdown",
   "id": "91b96c98",
   "metadata": {},
   "source": [
    "### Lagplot"
   ]
  },
  {
   "cell_type": "code",
   "execution_count": 21,
   "id": "2c67884a",
   "metadata": {},
   "outputs": [
    {
     "data": {
      "text/html": [
       "<div>\n",
       "<style scoped>\n",
       "    .dataframe tbody tr th:only-of-type {\n",
       "        vertical-align: middle;\n",
       "    }\n",
       "\n",
       "    .dataframe tbody tr th {\n",
       "        vertical-align: top;\n",
       "    }\n",
       "\n",
       "    .dataframe thead th {\n",
       "        text-align: right;\n",
       "    }\n",
       "</style>\n",
       "<table border=\"1\" class=\"dataframe\">\n",
       "  <thead>\n",
       "    <tr style=\"text-align: right;\">\n",
       "      <th></th>\n",
       "      <th>SpotPrice</th>\n",
       "    </tr>\n",
       "    <tr>\n",
       "      <th>Date</th>\n",
       "      <th></th>\n",
       "    </tr>\n",
       "  </thead>\n",
       "  <tbody>\n",
       "    <tr>\n",
       "      <th>2016-10-03</th>\n",
       "      <td>553.397368</td>\n",
       "    </tr>\n",
       "    <tr>\n",
       "      <th>2016-10-04</th>\n",
       "      <td>557.447404</td>\n",
       "    </tr>\n",
       "    <tr>\n",
       "      <th>2016-10-05</th>\n",
       "      <td>572.954788</td>\n",
       "    </tr>\n",
       "    <tr>\n",
       "      <th>2016-10-06</th>\n",
       "      <td>584.706869</td>\n",
       "    </tr>\n",
       "    <tr>\n",
       "      <th>2016-10-07</th>\n",
       "      <td>591.974553</td>\n",
       "    </tr>\n",
       "    <tr>\n",
       "      <th>...</th>\n",
       "      <td>...</td>\n",
       "    </tr>\n",
       "    <tr>\n",
       "      <th>2021-11-16</th>\n",
       "      <td>1426.055451</td>\n",
       "    </tr>\n",
       "    <tr>\n",
       "      <th>2021-11-17</th>\n",
       "      <td>1360.137800</td>\n",
       "    </tr>\n",
       "    <tr>\n",
       "      <th>2021-11-18</th>\n",
       "      <td>1413.858611</td>\n",
       "    </tr>\n",
       "    <tr>\n",
       "      <th>2021-11-19</th>\n",
       "      <td>1347.296577</td>\n",
       "    </tr>\n",
       "    <tr>\n",
       "      <th>2021-11-22</th>\n",
       "      <td>1369.128241</td>\n",
       "    </tr>\n",
       "  </tbody>\n",
       "</table>\n",
       "<p>1309 rows × 1 columns</p>\n",
       "</div>"
      ],
      "text/plain": [
       "              SpotPrice\n",
       "Date                   \n",
       "2016-10-03   553.397368\n",
       "2016-10-04   557.447404\n",
       "2016-10-05   572.954788\n",
       "2016-10-06   584.706869\n",
       "2016-10-07   591.974553\n",
       "...                 ...\n",
       "2021-11-16  1426.055451\n",
       "2021-11-17  1360.137800\n",
       "2021-11-18  1413.858611\n",
       "2021-11-19  1347.296577\n",
       "2021-11-22  1369.128241\n",
       "\n",
       "[1309 rows x 1 columns]"
      ]
     },
     "execution_count": 21,
     "metadata": {},
     "output_type": "execute_result"
    }
   ],
   "source": [
    "oil"
   ]
  },
  {
   "cell_type": "code",
   "execution_count": 22,
   "id": "e99fd3fc",
   "metadata": {},
   "outputs": [
    {
     "data": {
      "text/plain": [
       "<AxesSubplot:xlabel='y(t)', ylabel='y(t + 1)'>"
      ]
     },
     "execution_count": 22,
     "metadata": {},
     "output_type": "execute_result"
    },
    {
     "data": {
      "image/png": "[encoded data removed]",
      "text/plain": [
       "<Figure size 432x288 with 1 Axes>"
      ]
     },
     "metadata": {
      "needs_background": "light"
     },
     "output_type": "display_data"
    }
   ],
   "source": [
    "from pandas.plotting import lag_plot\n",
    "\n",
    "lag_plot(oil['SpotPrice'])"
   ]
  },
  {
   "cell_type": "markdown",
   "id": "adf5f5ad",
   "metadata": {},
   "source": [
    "### ACF and PACF plot"
   ]
  },
  {
   "cell_type": "code",
   "execution_count": 23,
   "id": "ab6e7da3",
   "metadata": {},
   "outputs": [],
   "source": [
    "#from statsmodels.graphics.tsaplots import plot_acf,plot_pacf"
   ]
  },
  {
   "cell_type": "code",
   "execution_count": 24,
   "id": "942a3be1",
   "metadata": {},
   "outputs": [],
   "source": [
    "#fig = plt.figure(figsize=(12,8))\n",
    "#ax1 = fig.add_subplot(211)\n",
    "#fig = sm.graphics.tsa.plot_acf(oil['SpotPrice'].iloc[6:],lags=12)\n",
    "#ax1 = fig.add_subplot(212)\n",
    "#fig = sm.graphics.tsa.plot_pacf(oil['SpotPrice'].iloc[6:],lags=12)"
   ]
  },
  {
   "cell_type": "code",
   "execution_count": 25,
   "id": "6070d514",
   "metadata": {},
   "outputs": [
    {
     "data": {
      "image/png": "[encoded data removed]",
      "text/plain": [
       "<Figure size 432x288 with 1 Axes>"
      ]
     },
     "metadata": {
      "needs_background": "light"
     },
     "output_type": "display_data"
    },
    {
     "data": {
      "image/png": "[encoded data removed]",
      "text/plain": [
       "<Figure size 432x288 with 1 Axes>"
      ]
     },
     "metadata": {
      "needs_background": "light"
     },
     "output_type": "display_data"
    }
   ],
   "source": [
    "import statsmodels.graphics.tsaplots as tsa_plots\n",
    "tsa_plots.plot_acf(oil['SpotPrice'],lags=12)\n",
    "tsa_plots.plot_pacf(oil['SpotPrice'],lags=12)\n",
    "plt.show()"
   ]
  },
  {
   "cell_type": "markdown",
   "id": "d693db06",
   "metadata": {},
   "source": [
    "### Decomposition plot"
   ]
  },
  {
   "cell_type": "code",
   "execution_count": 26,
   "id": "67c14620",
   "metadata": {},
   "outputs": [
    {
     "data": {
      "image/png": "[encoded data removed]",
      "text/plain": [
       "<Figure size 432x288 with 4 Axes>"
      ]
     },
     "metadata": {
      "needs_background": "light"
     },
     "output_type": "display_data"
    }
   ],
   "source": [
    "from statsmodels.tsa.seasonal import seasonal_decompose\n",
    "\n",
    "decompose_ts_add = seasonal_decompose(oil['SpotPrice'],period=12,model='additive')\n",
    "decompose_ts_add.plot()\n",
    "plt.show()"
   ]
  },
  {
   "cell_type": "code",
   "execution_count": null,
   "id": "01c28c07",
   "metadata": {},
   "outputs": [],
   "source": []
  },
  {
   "cell_type": "markdown",
   "id": "139ae6b9",
   "metadata": {},
   "source": [
    "### Stationarity Check\n",
    "- Method 1 - Rolling Statistics\n",
    "- Method 2 - Dicky Fuller"
   ]
  },
  {
   "cell_type": "code",
   "execution_count": 27,
   "id": "e995c272",
   "metadata": {},
   "outputs": [],
   "source": [
    " def test_stationarity(timeseries):\n",
    "    \"\"\" Fucntion to plot the moving variance and apply Dickey Fuller Test\"\"\"\n",
    "    rolmean = timeseries.rolling(window=52, center=False).mean()\n",
    "    rolstd = timeseries.rolling(window=52, center=False).std()\n",
    "    #Plot rolling statistics\n",
    "    orig = plt.plot(timeseries, color='blue', label='Original Time Series Data')\n",
    "    mean = plt.plot(rolmean, color='red', label='Rolling Mean')\n",
    "    std = plt.plot(rolstd, color='black', label='Rolling Standard Deviation')\n",
    "    plt.legend(loc='best')\n",
    "    plt.title('Rolling Mean & Standard Deviation')\n",
    "    plt.show(block=False)\n",
    "    print('Results of Dickey-Fuller Test:\\n')\n",
    "    dftest = adfuller(timeseries, autolag='AIC')\n",
    "    dfoutput = pd.Series(dftest[0:4], index=['Test Statistics', 'p-value' ,'#Lags Used', 'Number of Observations Used'])\n",
    "    for key, value in dftest[4].items():\n",
    "        dfoutput[f'Critical Value {key}'] = value\n",
    "        \n",
    "    \n",
    "    print(dfoutput)"
   ]
  },
  {
   "cell_type": "code",
   "execution_count": 28,
   "id": "ff466002",
   "metadata": {},
   "outputs": [
    {
     "data": {
      "image/png": "[encoded data removed]",
      "text/plain": [
       "<Figure size 432x288 with 1 Axes>"
      ]
     },
     "metadata": {
      "needs_background": "light"
     },
     "output_type": "display_data"
    },
    {
     "name": "stdout",
     "output_type": "stream",
     "text": [
      "Results of Dickey-Fuller Test:\n",
      "\n",
      "Test Statistics                  -1.464224\n",
      "p-value                           0.551129\n",
      "#Lags Used                        0.000000\n",
      "Number of Observations Used    1308.000000\n",
      "Critical Value 1%                -3.435359\n",
      "Critical Value 5%                -2.863752\n",
      "Critical Value 10%               -2.567948\n",
      "dtype: float64\n"
     ]
    }
   ],
   "source": [
    "test_stationarity(oil)"
   ]
  },
  {
   "cell_type": "code",
   "execution_count": null,
   "id": "461234c8",
   "metadata": {},
   "outputs": [],
   "source": []
  },
  {
   "cell_type": "code",
   "execution_count": 29,
   "id": "a4c90948",
   "metadata": {},
   "outputs": [],
   "source": [
    "## differencing"
   ]
  },
  {
   "cell_type": "code",
   "execution_count": 30,
   "id": "23a9a436",
   "metadata": {},
   "outputs": [
    {
     "data": {
      "text/plain": [
       "Date\n",
       "2016-10-03          NaN\n",
       "2016-10-04     4.050036\n",
       "2016-10-05    15.507384\n",
       "2016-10-06    11.752081\n",
       "2016-10-07     7.267684\n",
       "                ...    \n",
       "2021-11-16    27.681494\n",
       "2021-11-17   -65.917651\n",
       "2021-11-18    53.720812\n",
       "2021-11-19   -66.562034\n",
       "2021-11-22    21.831664\n",
       "Name: SpotPrice, Length: 1309, dtype: float64"
      ]
     },
     "execution_count": 30,
     "metadata": {},
     "output_type": "execute_result"
    }
   ],
   "source": [
    "oil_diff= oil['SpotPrice'] - oil['SpotPrice'].shift(1)\n",
    "oil_diff"
   ]
  },
  {
   "cell_type": "code",
   "execution_count": 31,
   "id": "c7b96c08",
   "metadata": {},
   "outputs": [
    {
     "data": {
      "text/plain": [
       "Date\n",
       "2016-10-04     4.050036\n",
       "2016-10-05    15.507384\n",
       "2016-10-06    11.752081\n",
       "2016-10-07     7.267684\n",
       "2016-10-10    22.037441\n",
       "                ...    \n",
       "2021-11-16    27.681494\n",
       "2021-11-17   -65.917651\n",
       "2021-11-18    53.720812\n",
       "2021-11-19   -66.562034\n",
       "2021-11-22    21.831664\n",
       "Name: SpotPrice, Length: 1308, dtype: float64"
      ]
     },
     "execution_count": 31,
     "metadata": {},
     "output_type": "execute_result"
    }
   ],
   "source": [
    "oil_diff.dropna()"
   ]
  },
  {
   "cell_type": "code",
   "execution_count": 32,
   "id": "19fb14d3",
   "metadata": {},
   "outputs": [
    {
     "data": {
      "image/png": "[encoded data removed]",
      "text/plain": [
       "<Figure size 432x288 with 1 Axes>"
      ]
     },
     "metadata": {
      "needs_background": "light"
     },
     "output_type": "display_data"
    },
    {
     "name": "stdout",
     "output_type": "stream",
     "text": [
      "Results of Dickey-Fuller Test:\n",
      "\n",
      "Test Statistics                 -26.645003\n",
      "p-value                           0.000000\n",
      "#Lags Used                        1.000000\n",
      "Number of Observations Used    1306.000000\n",
      "Critical Value 1%                -3.435367\n",
      "Critical Value 5%                -2.863756\n",
      "Critical Value 10%               -2.567950\n",
      "dtype: float64\n"
     ]
    }
   ],
   "source": [
    "oil_diff.dropna(inplace=True)\n",
    "test_stationarity(oil_diff)"
   ]
  },
  {
   "cell_type": "code",
   "execution_count": 33,
   "id": "04582d27",
   "metadata": {},
   "outputs": [],
   "source": [
    "### log transformation"
   ]
  },
  {
   "cell_type": "code",
   "execution_count": 34,
   "id": "8dc84a31",
   "metadata": {},
   "outputs": [],
   "source": [
    "#oil_log = np.log(oil)\n",
    "#oil_log_diff = oil_log - oil_log.shift()\n",
    "#_ = plt.plot(oil_log_diff)"
   ]
  },
  {
   "cell_type": "code",
   "execution_count": 35,
   "id": "5cd9fa6c",
   "metadata": {},
   "outputs": [],
   "source": [
    "#oil_log_diff.dropna(inplace=True)\n",
    "#test_stationarity(oil_log_diff)"
   ]
  },
  {
   "cell_type": "code",
   "execution_count": 36,
   "id": "39cb0b74",
   "metadata": {},
   "outputs": [
    {
     "data": {
      "text/plain": [
       "<AxesSubplot:xlabel='Date'>"
      ]
     },
     "execution_count": 36,
     "metadata": {},
     "output_type": "execute_result"
    },
    {
     "data": {
      "image/png": "[encoded data removed]",
      "text/plain": [
       "<Figure size 432x288 with 1 Axes>"
      ]
     },
     "metadata": {
      "needs_background": "light"
     },
     "output_type": "display_data"
    }
   ],
   "source": [
    "oil_diff.plot()"
   ]
  },
  {
   "cell_type": "code",
   "execution_count": 37,
   "id": "5618173b",
   "metadata": {},
   "outputs": [],
   "source": [
    "#TestStationary.Plot(oil_diff)"
   ]
  },
  {
   "cell_type": "code",
   "execution_count": null,
   "id": "812585e5",
   "metadata": {},
   "outputs": [],
   "source": []
  },
  {
   "cell_type": "markdown",
   "id": "aebfcdeb",
   "metadata": {},
   "source": [
    "### Decomposition plot after differencing"
   ]
  },
  {
   "cell_type": "code",
   "execution_count": 38,
   "id": "6d466a77",
   "metadata": {},
   "outputs": [
    {
     "data": {
      "image/png": "[encoded data removed]",
      "text/plain": [
       "<Figure size 432x288 with 4 Axes>"
      ]
     },
     "metadata": {
      "needs_background": "light"
     },
     "output_type": "display_data"
    }
   ],
   "source": [
    "decompose_ts_add = seasonal_decompose(oil_diff.dropna(),period=12)\n",
    "decompose_ts_add.plot()\n",
    "plt.show()"
   ]
  },
  {
   "cell_type": "markdown",
   "id": "7f3f8337",
   "metadata": {},
   "source": [
    "### ACF and PACF plot after differencing"
   ]
  },
  {
   "cell_type": "code",
   "execution_count": 39,
   "id": "626e192b",
   "metadata": {},
   "outputs": [
    {
     "data": {
      "image/png": "[encoded data removed]",
      "text/plain": [
       "<Figure size 432x288 with 1 Axes>"
      ]
     },
     "metadata": {
      "needs_background": "light"
     },
     "output_type": "display_data"
    },
    {
     "data": {
      "image/png": "[encoded data removed]",
      "text/plain": [
       "<Figure size 432x288 with 1 Axes>"
      ]
     },
     "metadata": {
      "needs_background": "light"
     },
     "output_type": "display_data"
    }
   ],
   "source": [
    "tsa_plots.plot_acf(oil_diff.dropna(),lags=12)\n",
    "tsa_plots.plot_pacf(oil_diff.dropna(),lags=12)\n",
    "plt.show()"
   ]
  },
  {
   "cell_type": "code",
   "execution_count": 40,
   "id": "4522d606",
   "metadata": {},
   "outputs": [
    {
     "data": {
      "text/html": [
       "<div>\n",
       "<style scoped>\n",
       "    .dataframe tbody tr th:only-of-type {\n",
       "        vertical-align: middle;\n",
       "    }\n",
       "\n",
       "    .dataframe tbody tr th {\n",
       "        vertical-align: top;\n",
       "    }\n",
       "\n",
       "    .dataframe thead th {\n",
       "        text-align: right;\n",
       "    }\n",
       "</style>\n",
       "<table border=\"1\" class=\"dataframe\">\n",
       "  <thead>\n",
       "    <tr style=\"text-align: right;\">\n",
       "      <th></th>\n",
       "      <th>SpotPrice</th>\n",
       "    </tr>\n",
       "    <tr>\n",
       "      <th>Date</th>\n",
       "      <th></th>\n",
       "    </tr>\n",
       "  </thead>\n",
       "  <tbody>\n",
       "    <tr>\n",
       "      <th>2016-10-03</th>\n",
       "      <td>553.397368</td>\n",
       "    </tr>\n",
       "    <tr>\n",
       "      <th>2016-10-04</th>\n",
       "      <td>557.447404</td>\n",
       "    </tr>\n",
       "    <tr>\n",
       "      <th>2016-10-05</th>\n",
       "      <td>572.954788</td>\n",
       "    </tr>\n",
       "    <tr>\n",
       "      <th>2016-10-06</th>\n",
       "      <td>584.706869</td>\n",
       "    </tr>\n",
       "    <tr>\n",
       "      <th>2016-10-07</th>\n",
       "      <td>591.974553</td>\n",
       "    </tr>\n",
       "    <tr>\n",
       "      <th>...</th>\n",
       "      <td>...</td>\n",
       "    </tr>\n",
       "    <tr>\n",
       "      <th>2021-11-16</th>\n",
       "      <td>1426.055451</td>\n",
       "    </tr>\n",
       "    <tr>\n",
       "      <th>2021-11-17</th>\n",
       "      <td>1360.137800</td>\n",
       "    </tr>\n",
       "    <tr>\n",
       "      <th>2021-11-18</th>\n",
       "      <td>1413.858611</td>\n",
       "    </tr>\n",
       "    <tr>\n",
       "      <th>2021-11-19</th>\n",
       "      <td>1347.296577</td>\n",
       "    </tr>\n",
       "    <tr>\n",
       "      <th>2021-11-22</th>\n",
       "      <td>1369.128241</td>\n",
       "    </tr>\n",
       "  </tbody>\n",
       "</table>\n",
       "<p>1309 rows × 1 columns</p>\n",
       "</div>"
      ],
      "text/plain": [
       "              SpotPrice\n",
       "Date                   \n",
       "2016-10-03   553.397368\n",
       "2016-10-04   557.447404\n",
       "2016-10-05   572.954788\n",
       "2016-10-06   584.706869\n",
       "2016-10-07   591.974553\n",
       "...                 ...\n",
       "2021-11-16  1426.055451\n",
       "2021-11-17  1360.137800\n",
       "2021-11-18  1413.858611\n",
       "2021-11-19  1347.296577\n",
       "2021-11-22  1369.128241\n",
       "\n",
       "[1309 rows x 1 columns]"
      ]
     },
     "execution_count": 40,
     "metadata": {},
     "output_type": "execute_result"
    }
   ],
   "source": [
    "oil"
   ]
  },
  {
   "cell_type": "code",
   "execution_count": 41,
   "id": "7a6a5931",
   "metadata": {},
   "outputs": [
    {
     "data": {
      "text/plain": [
       "Date\n",
       "2016-10-04     4.050036\n",
       "2016-10-05    15.507384\n",
       "2016-10-06    11.752081\n",
       "2016-10-07     7.267684\n",
       "2016-10-10    22.037441\n",
       "                ...    \n",
       "2021-11-16    27.681494\n",
       "2021-11-17   -65.917651\n",
       "2021-11-18    53.720812\n",
       "2021-11-19   -66.562034\n",
       "2021-11-22    21.831664\n",
       "Name: SpotPrice, Length: 1308, dtype: float64"
      ]
     },
     "execution_count": 41,
     "metadata": {},
     "output_type": "execute_result"
    }
   ],
   "source": [
    "oil_diff"
   ]
  },
  {
   "cell_type": "code",
   "execution_count": null,
   "id": "c292613f",
   "metadata": {},
   "outputs": [],
   "source": []
  },
  {
   "cell_type": "code",
   "execution_count": 42,
   "id": "6cb6685a",
   "metadata": {},
   "outputs": [],
   "source": [
    "#p--pACF---0    d--differenin---1 q---acf---0  order 010"
   ]
  },
  {
   "cell_type": "markdown",
   "id": "1df87160",
   "metadata": {},
   "source": [
    "### ARIMA Model"
   ]
  },
  {
   "cell_type": "code",
   "execution_count": 43,
   "id": "34c887f7",
   "metadata": {},
   "outputs": [],
   "source": [
    "#p=0 , d= 1, q = 0 or 1\n",
    "from statsmodels.tsa.arima_model import ARIMA"
   ]
  },
  {
   "cell_type": "code",
   "execution_count": 44,
   "id": "7c778e1f",
   "metadata": {},
   "outputs": [],
   "source": [
    "model = ARIMA(oil_diff, order = (0,1,0))\n",
    "model_fit = model.fit()"
   ]
  },
  {
   "cell_type": "code",
   "execution_count": 45,
   "id": "0bd9a083",
   "metadata": {},
   "outputs": [
    {
     "data": {
      "text/html": [
       "<table class=\"simpletable\">\n",
       "<caption>ARIMA Model Results</caption>\n",
       "<tr>\n",
       "  <th>Dep. Variable:</th>    <td>D.SpotPrice</td>   <th>  No. Observations:  </th>   <td>1307</td>   \n",
       "</tr>\n",
       "<tr>\n",
       "  <th>Model:</th>          <td>ARIMA(0, 1, 0)</td>  <th>  Log Likelihood     </th> <td>-6766.075</td>\n",
       "</tr>\n",
       "<tr>\n",
       "  <th>Method:</th>               <td>css</td>       <th>  S.D. of innovations</th>  <td>42.857</td>  \n",
       "</tr>\n",
       "<tr>\n",
       "  <th>Date:</th>          <td>Wed, 05 Jan 2022</td> <th>  AIC                </th> <td>13536.150</td>\n",
       "</tr>\n",
       "<tr>\n",
       "  <th>Time:</th>              <td>18:23:03</td>     <th>  BIC                </th> <td>13546.501</td>\n",
       "</tr>\n",
       "<tr>\n",
       "  <th>Sample:</th>                <td>1</td>        <th>  HQIC               </th> <td>13540.032</td>\n",
       "</tr>\n",
       "<tr>\n",
       "  <th></th>                       <td> </td>        <th>                     </th>     <td> </td>    \n",
       "</tr>\n",
       "</table>\n",
       "<table class=\"simpletable\">\n",
       "<tr>\n",
       "    <td></td>       <th>coef</th>     <th>std err</th>      <th>z</th>      <th>P>|z|</th>  <th>[0.025</th>    <th>0.975]</th>  \n",
       "</tr>\n",
       "<tr>\n",
       "  <th>const</th> <td>    0.0136</td> <td>    1.185</td> <td>    0.011</td> <td> 0.991</td> <td>   -2.310</td> <td>    2.337</td>\n",
       "</tr>\n",
       "</table>"
      ],
      "text/plain": [
       "<class 'statsmodels.iolib.summary.Summary'>\n",
       "\"\"\"\n",
       "                             ARIMA Model Results                              \n",
       "==============================================================================\n",
       "Dep. Variable:            D.SpotPrice   No. Observations:                 1307\n",
       "Model:                 ARIMA(0, 1, 0)   Log Likelihood               -6766.075\n",
       "Method:                           css   S.D. of innovations             42.857\n",
       "Date:                Wed, 05 Jan 2022   AIC                          13536.150\n",
       "Time:                        18:23:03   BIC                          13546.501\n",
       "Sample:                             1   HQIC                         13540.032\n",
       "                                                                              \n",
       "==============================================================================\n",
       "                 coef    std err          z      P>|z|      [0.025      0.975]\n",
       "------------------------------------------------------------------------------\n",
       "const          0.0136      1.185      0.011      0.991      -2.310       2.337\n",
       "==============================================================================\n",
       "\"\"\""
      ]
     },
     "execution_count": 45,
     "metadata": {},
     "output_type": "execute_result"
    }
   ],
   "source": [
    "model_fit.summary()"
   ]
  },
  {
   "cell_type": "code",
   "execution_count": 46,
   "id": "d888898d",
   "metadata": {},
   "outputs": [
    {
     "data": {
      "text/plain": [
       "[(0, 0, 0),\n",
       " (0, 0, 1),\n",
       " (0, 0, 2),\n",
       " (0, 0, 3),\n",
       " (0, 0, 4),\n",
       " (0, 1, 0),\n",
       " (0, 1, 1),\n",
       " (0, 1, 2),\n",
       " (0, 1, 3),\n",
       " (0, 1, 4),\n",
       " (0, 2, 0),\n",
       " (0, 2, 1),\n",
       " (0, 2, 2),\n",
       " (0, 2, 3),\n",
       " (0, 2, 4),\n",
       " (0, 3, 0),\n",
       " (0, 3, 1),\n",
       " (0, 3, 2),\n",
       " (0, 3, 3),\n",
       " (0, 3, 4),\n",
       " (0, 4, 0),\n",
       " (0, 4, 1),\n",
       " (0, 4, 2),\n",
       " (0, 4, 3),\n",
       " (0, 4, 4),\n",
       " (1, 0, 0),\n",
       " (1, 0, 1),\n",
       " (1, 0, 2),\n",
       " (1, 0, 3),\n",
       " (1, 0, 4),\n",
       " (1, 1, 0),\n",
       " (1, 1, 1),\n",
       " (1, 1, 2),\n",
       " (1, 1, 3),\n",
       " (1, 1, 4),\n",
       " (1, 2, 0),\n",
       " (1, 2, 1),\n",
       " (1, 2, 2),\n",
       " (1, 2, 3),\n",
       " (1, 2, 4),\n",
       " (1, 3, 0),\n",
       " (1, 3, 1),\n",
       " (1, 3, 2),\n",
       " (1, 3, 3),\n",
       " (1, 3, 4),\n",
       " (1, 4, 0),\n",
       " (1, 4, 1),\n",
       " (1, 4, 2),\n",
       " (1, 4, 3),\n",
       " (1, 4, 4),\n",
       " (2, 0, 0),\n",
       " (2, 0, 1),\n",
       " (2, 0, 2),\n",
       " (2, 0, 3),\n",
       " (2, 0, 4),\n",
       " (2, 1, 0),\n",
       " (2, 1, 1),\n",
       " (2, 1, 2),\n",
       " (2, 1, 3),\n",
       " (2, 1, 4),\n",
       " (2, 2, 0),\n",
       " (2, 2, 1),\n",
       " (2, 2, 2),\n",
       " (2, 2, 3),\n",
       " (2, 2, 4),\n",
       " (2, 3, 0),\n",
       " (2, 3, 1),\n",
       " (2, 3, 2),\n",
       " (2, 3, 3),\n",
       " (2, 3, 4),\n",
       " (2, 4, 0),\n",
       " (2, 4, 1),\n",
       " (2, 4, 2),\n",
       " (2, 4, 3),\n",
       " (2, 4, 4),\n",
       " (3, 0, 0),\n",
       " (3, 0, 1),\n",
       " (3, 0, 2),\n",
       " (3, 0, 3),\n",
       " (3, 0, 4),\n",
       " (3, 1, 0),\n",
       " (3, 1, 1),\n",
       " (3, 1, 2),\n",
       " (3, 1, 3),\n",
       " (3, 1, 4),\n",
       " (3, 2, 0),\n",
       " (3, 2, 1),\n",
       " (3, 2, 2),\n",
       " (3, 2, 3),\n",
       " (3, 2, 4),\n",
       " (3, 3, 0),\n",
       " (3, 3, 1),\n",
       " (3, 3, 2),\n",
       " (3, 3, 3),\n",
       " (3, 3, 4),\n",
       " (3, 4, 0),\n",
       " (3, 4, 1),\n",
       " (3, 4, 2),\n",
       " (3, 4, 3),\n",
       " (3, 4, 4),\n",
       " (4, 0, 0),\n",
       " (4, 0, 1),\n",
       " (4, 0, 2),\n",
       " (4, 0, 3),\n",
       " (4, 0, 4),\n",
       " (4, 1, 0),\n",
       " (4, 1, 1),\n",
       " (4, 1, 2),\n",
       " (4, 1, 3),\n",
       " (4, 1, 4),\n",
       " (4, 2, 0),\n",
       " (4, 2, 1),\n",
       " (4, 2, 2),\n",
       " (4, 2, 3),\n",
       " (4, 2, 4),\n",
       " (4, 3, 0),\n",
       " (4, 3, 1),\n",
       " (4, 3, 2),\n",
       " (4, 3, 3),\n",
       " (4, 3, 4),\n",
       " (4, 4, 0),\n",
       " (4, 4, 1),\n",
       " (4, 4, 2),\n",
       " (4, 4, 3),\n",
       " (4, 4, 4)]"
      ]
     },
     "execution_count": 46,
     "metadata": {},
     "output_type": "execute_result"
    }
   ],
   "source": [
    "import itertools\n",
    "p=d=q=range(0,5)\n",
    "pdq = list(itertools.product(p,d,q))\n",
    "pdq"
   ]
  },
  {
   "cell_type": "code",
   "execution_count": 47,
   "id": "919bcd9e",
   "metadata": {},
   "outputs": [
    {
     "name": "stdout",
     "output_type": "stream",
     "text": [
      "(0, 0, 0) 12625.615162081944\n",
      "(0, 0, 1) 12627.46280712684\n",
      "(0, 0, 2) 12627.603253753003\n",
      "(0, 0, 3) 12629.474849890143\n",
      "(0, 0, 4) 12631.438158710316\n",
      "(0, 1, 0) 13536.149603596075\n",
      "(0, 1, 1) 12625.950294236116\n",
      "(0, 1, 2) 12627.815968344616\n",
      "(0, 1, 3) 12628.012884830272\n",
      "(0, 1, 4) 12629.87127731256\n",
      "(0, 2, 0) 14947.590905201345\n",
      "(0, 2, 1) 13535.970519276327\n",
      "(0, 2, 2) 12636.493364977116\n",
      "(0, 2, 3) 12642.909023161174\n",
      "(0, 2, 4) 12643.977218391063\n",
      "(1, 0, 0) 12627.474368695766\n",
      "(1, 0, 1) 12629.031042546894\n",
      "(1, 0, 2) 12626.176183279375\n",
      "(1, 0, 3) 12627.010409545413\n",
      "(1, 0, 4) 12628.525684561937\n",
      "(1, 1, 0) 13185.464316357098\n",
      "(1, 1, 1) 12627.82598303833\n",
      "(1, 1, 2) 12625.749426821281\n",
      "(1, 1, 3) 12626.546001971303\n",
      "(1, 1, 4) 12629.772523806929\n",
      "(1, 2, 0) 14229.278185735526\n",
      "(1, 2, 3) 12641.277878826952\n",
      "(2, 0, 0) 12627.57121741348\n",
      "(2, 0, 1) 12626.227141533305\n",
      "(2, 0, 2) 12627.878361018857\n",
      "(2, 0, 3) 12627.927384617684\n",
      "(2, 0, 4) 12627.78246504491\n",
      "(2, 1, 0) 13010.460914524065\n",
      "(2, 1, 1) 12627.979661392385\n",
      "(2, 1, 2) 12629.931284510601\n",
      "(2, 1, 3) 12620.361477218275\n",
      "(2, 1, 4) 12628.461171762152\n",
      "(2, 2, 0) 13841.143598912655\n",
      "(2, 2, 4) 12643.599274308126\n",
      "(3, 0, 0) 12629.53407159485\n",
      "(3, 0, 1) 12627.512628608823\n",
      "(3, 0, 2) 12628.176749709462\n",
      "(3, 0, 3) 12619.467098708054\n",
      "(3, 0, 4) 12621.157681393925\n",
      "(3, 1, 0) 12920.528720536618\n",
      "(3, 1, 1) 12629.933782814205\n",
      "(3, 1, 2) 12628.173294524848\n",
      "(3, 1, 3) 12631.339871054874\n",
      "(3, 1, 4) 12621.8778555354\n",
      "(3, 2, 0) 13627.656616108265\n",
      "(4, 0, 0) 12631.525261035165\n",
      "(4, 0, 1) 12628.826311585684\n",
      "(4, 0, 2) 12628.265721508556\n",
      "(4, 0, 3) 12621.162813559118\n",
      "(4, 0, 4) 12622.605982284791\n",
      "(4, 1, 0) 12842.83198025072\n",
      "(4, 1, 1) 12631.921349773993\n",
      "(4, 1, 2) 12629.98104172881\n",
      "(4, 1, 3) 12626.52183021995\n",
      "(4, 1, 4) 12627.997291480691\n",
      "(4, 2, 0) 13443.405696605132\n"
     ]
    }
   ],
   "source": [
    "for param in pdq:\n",
    "    try:\n",
    "        model_arima = ARIMA(oil_diff.dropna(),order=param)\n",
    "        model_arima_fit = model_arima.fit()\n",
    "        print(param,model_arima_fit.aic)\n",
    "    except:\n",
    "        continue"
   ]
  },
  {
   "cell_type": "code",
   "execution_count": 48,
   "id": "84460325",
   "metadata": {},
   "outputs": [],
   "source": [
    "train_ar = oil_diff.head(1083)\n",
    "test_ar = oil_diff.tail(226)"
   ]
  },
  {
   "cell_type": "code",
   "execution_count": 49,
   "id": "1441df07",
   "metadata": {},
   "outputs": [
    {
     "data": {
      "text/plain": [
       "DatetimeIndex(['2016-10-04', '2016-10-05', '2016-10-06', '2016-10-07',\n",
       "               '2016-10-10', '2016-10-11', '2016-10-12', '2016-10-13',\n",
       "               '2016-10-14', '2016-10-17',\n",
       "               ...\n",
       "               '2020-12-18', '2020-12-21', '2020-12-22', '2020-12-23',\n",
       "               '2020-12-24', '2020-12-28', '2020-12-29', '2020-12-30',\n",
       "               '2020-12-31', '2021-01-04'],\n",
       "              dtype='datetime64[ns]', name='Date', length=1083, freq=None)"
      ]
     },
     "execution_count": 49,
     "metadata": {},
     "output_type": "execute_result"
    }
   ],
   "source": [
    "train_ar.index"
   ]
  },
  {
   "cell_type": "code",
   "execution_count": 50,
   "id": "cda220f2",
   "metadata": {},
   "outputs": [
    {
     "data": {
      "text/plain": [
       "DatetimeIndex(['2021-01-04', '2021-01-05', '2021-01-06', '2021-01-07',\n",
       "               '2021-01-08', '2021-01-11', '2021-01-12', '2021-01-13',\n",
       "               '2021-01-14', '2021-01-15',\n",
       "               ...\n",
       "               '2021-11-09', '2021-11-10', '2021-11-11', '2021-11-12',\n",
       "               '2021-11-15', '2021-11-16', '2021-11-17', '2021-11-18',\n",
       "               '2021-11-19', '2021-11-22'],\n",
       "              dtype='datetime64[ns]', name='Date', length=226, freq=None)"
      ]
     },
     "execution_count": 50,
     "metadata": {},
     "output_type": "execute_result"
    }
   ],
   "source": [
    "test_ar.index"
   ]
  },
  {
   "cell_type": "code",
   "execution_count": 51,
   "id": "72b62757",
   "metadata": {},
   "outputs": [],
   "source": [
    "train_ar = pd.DataFrame(train_ar)"
   ]
  },
  {
   "cell_type": "code",
   "execution_count": 52,
   "id": "387a4346",
   "metadata": {},
   "outputs": [
    {
     "data": {
      "text/html": [
       "<div>\n",
       "<style scoped>\n",
       "    .dataframe tbody tr th:only-of-type {\n",
       "        vertical-align: middle;\n",
       "    }\n",
       "\n",
       "    .dataframe tbody tr th {\n",
       "        vertical-align: top;\n",
       "    }\n",
       "\n",
       "    .dataframe thead th {\n",
       "        text-align: right;\n",
       "    }\n",
       "</style>\n",
       "<table border=\"1\" class=\"dataframe\">\n",
       "  <thead>\n",
       "    <tr style=\"text-align: right;\">\n",
       "      <th></th>\n",
       "      <th>SpotPrice</th>\n",
       "    </tr>\n",
       "    <tr>\n",
       "      <th>Date</th>\n",
       "      <th></th>\n",
       "    </tr>\n",
       "  </thead>\n",
       "  <tbody>\n",
       "    <tr>\n",
       "      <th>2016-10-04</th>\n",
       "      <td>4.050036</td>\n",
       "    </tr>\n",
       "    <tr>\n",
       "      <th>2016-10-05</th>\n",
       "      <td>15.507384</td>\n",
       "    </tr>\n",
       "    <tr>\n",
       "      <th>2016-10-06</th>\n",
       "      <td>11.752081</td>\n",
       "    </tr>\n",
       "    <tr>\n",
       "      <th>2016-10-07</th>\n",
       "      <td>7.267684</td>\n",
       "    </tr>\n",
       "    <tr>\n",
       "      <th>2016-10-10</th>\n",
       "      <td>22.037441</td>\n",
       "    </tr>\n",
       "    <tr>\n",
       "      <th>...</th>\n",
       "      <td>...</td>\n",
       "    </tr>\n",
       "    <tr>\n",
       "      <th>2020-12-28</th>\n",
       "      <td>0.000000</td>\n",
       "    </tr>\n",
       "    <tr>\n",
       "      <th>2020-12-29</th>\n",
       "      <td>-9.184974</td>\n",
       "    </tr>\n",
       "    <tr>\n",
       "      <th>2020-12-30</th>\n",
       "      <td>6.255785</td>\n",
       "    </tr>\n",
       "    <tr>\n",
       "      <th>2020-12-31</th>\n",
       "      <td>10.068933</td>\n",
       "    </tr>\n",
       "    <tr>\n",
       "      <th>2021-01-04</th>\n",
       "      <td>-17.780267</td>\n",
       "    </tr>\n",
       "  </tbody>\n",
       "</table>\n",
       "<p>1083 rows × 1 columns</p>\n",
       "</div>"
      ],
      "text/plain": [
       "            SpotPrice\n",
       "Date                 \n",
       "2016-10-04   4.050036\n",
       "2016-10-05  15.507384\n",
       "2016-10-06  11.752081\n",
       "2016-10-07   7.267684\n",
       "2016-10-10  22.037441\n",
       "...               ...\n",
       "2020-12-28   0.000000\n",
       "2020-12-29  -9.184974\n",
       "2020-12-30   6.255785\n",
       "2020-12-31  10.068933\n",
       "2021-01-04 -17.780267\n",
       "\n",
       "[1083 rows x 1 columns]"
      ]
     },
     "execution_count": 52,
     "metadata": {},
     "output_type": "execute_result"
    }
   ],
   "source": [
    "train_ar"
   ]
  },
  {
   "cell_type": "code",
   "execution_count": 53,
   "id": "bd67c75f",
   "metadata": {},
   "outputs": [
    {
     "data": {
      "text/plain": [
       "<AxesSubplot:xlabel='Date'>"
      ]
     },
     "execution_count": 53,
     "metadata": {},
     "output_type": "execute_result"
    },
    {
     "data": {
      "image/png": "[encoded data removed]",
      "text/plain": [
       "<Figure size 432x288 with 1 Axes>"
      ]
     },
     "metadata": {
      "needs_background": "light"
     },
     "output_type": "display_data"
    }
   ],
   "source": [
    "train_ar.plot()"
   ]
  },
  {
   "cell_type": "code",
   "execution_count": 54,
   "id": "f6a8f7fc",
   "metadata": {},
   "outputs": [
    {
     "data": {
      "text/plain": [
       "<AxesSubplot:xlabel='Date'>"
      ]
     },
     "execution_count": 54,
     "metadata": {},
     "output_type": "execute_result"
    },
    {
     "data": {
      "image/png": "[encoded data removed]",
      "text/plain": [
       "<Figure size 432x288 with 1 Axes>"
      ]
     },
     "metadata": {
      "needs_background": "light"
     },
     "output_type": "display_data"
    }
   ],
   "source": [
    "test_ar.plot()"
   ]
  },
  {
   "cell_type": "markdown",
   "id": "cd0c0a7d",
   "metadata": {},
   "source": [
    "### ARIMA MAPE "
   ]
  },
  {
   "cell_type": "code",
   "execution_count": 55,
   "id": "58643004",
   "metadata": {},
   "outputs": [],
   "source": [
    "from sklearn.metrics import mean_absolute_percentage_error"
   ]
  },
  {
   "cell_type": "code",
   "execution_count": 56,
   "id": "799a33fb",
   "metadata": {},
   "outputs": [
    {
     "data": {
      "text/plain": [
       "4.339216468908904e+16"
      ]
     },
     "execution_count": 56,
     "metadata": {},
     "output_type": "execute_result"
    }
   ],
   "source": [
    "ARIMAmodel = ARIMA(train_ar, order=(0, 1, 0)) #notice p,d and q value here\n",
    "ARIMA_model_fit = ARIMAmodel.fit()\n",
    "\n",
    "ARIMA_pred = ARIMA_model_fit.predict(1083,1308,typ='levels')\n",
    "mean_absolute_percentage_error(test_ar,ARIMA_pred)*100"
   ]
  },
  {
   "cell_type": "code",
   "execution_count": null,
   "id": "38da90a0",
   "metadata": {},
   "outputs": [],
   "source": []
  },
  {
   "cell_type": "markdown",
   "id": "7f28c034",
   "metadata": {},
   "source": [
    "## Sarima"
   ]
  },
  {
   "cell_type": "code",
   "execution_count": 57,
   "id": "439b59b1",
   "metadata": {},
   "outputs": [],
   "source": [
    "# Considering Seasonality in Arima it becomes SARIMA\n",
    "import statsmodels.api as sm\n",
    "SARIMAmodel = sm.tsa.statespace.SARIMAX(train_ar, order=(0,1,0),seasonal_order = (0,1,0,5))\n",
    "SARIMA_model_fit = SARIMAmodel.fit()"
   ]
  },
  {
   "cell_type": "code",
   "execution_count": 58,
   "id": "f42f6819",
   "metadata": {
    "scrolled": true
   },
   "outputs": [
    {
     "name": "stdout",
     "output_type": "stream",
     "text": [
      "                                     SARIMAX Results                                     \n",
      "=========================================================================================\n",
      "Dep. Variable:                         SpotPrice   No. Observations:                 1083\n",
      "Model:             SARIMAX(0, 1, 0)x(0, 1, 0, 5)   Log Likelihood               -5889.938\n",
      "Date:                           Wed, 05 Jan 2022   AIC                          11781.876\n",
      "Time:                                   18:24:40   BIC                          11786.857\n",
      "Sample:                                        0   HQIC                         11783.762\n",
      "                                          - 1083                                         \n",
      "Covariance Type:                             opg                                         \n",
      "==============================================================================\n",
      "                 coef    std err          z      P>|z|      [0.025      0.975]\n",
      "------------------------------------------------------------------------------\n",
      "sigma2      3293.8082    100.117     32.899      0.000    3097.582    3490.035\n",
      "===================================================================================\n",
      "Ljung-Box (L1) (Q):                 254.73   Jarque-Bera (JB):               183.81\n",
      "Prob(Q):                              0.00   Prob(JB):                         0.00\n",
      "Heteroskedasticity (H):               1.95   Skew:                             0.06\n",
      "Prob(H) (two-sided):                  0.00   Kurtosis:                         5.02\n",
      "===================================================================================\n",
      "\n",
      "Warnings:\n",
      "[1] Covariance matrix calculated using the outer product of gradients (complex-step).\n"
     ]
    }
   ],
   "source": [
    "print(SARIMA_model_fit.summary())"
   ]
  },
  {
   "cell_type": "code",
   "execution_count": 60,
   "id": "ffa30e38",
   "metadata": {},
   "outputs": [
    {
     "data": {
      "text/plain": [
       "DatetimeIndex(['2016-10-04', '2016-10-05', '2016-10-06', '2016-10-07',\n",
       "               '2016-10-10', '2016-10-11', '2016-10-12', '2016-10-13',\n",
       "               '2016-10-14', '2016-10-17',\n",
       "               ...\n",
       "               '2020-12-18', '2020-12-21', '2020-12-22', '2020-12-23',\n",
       "               '2020-12-24', '2020-12-28', '2020-12-29', '2020-12-30',\n",
       "               '2020-12-31', '2021-01-04'],\n",
       "              dtype='datetime64[ns]', name='Date', length=1083, freq=None)"
      ]
     },
     "execution_count": 60,
     "metadata": {},
     "output_type": "execute_result"
    }
   ],
   "source": [
    "train_ar.index"
   ]
  },
  {
   "cell_type": "code",
   "execution_count": 61,
   "id": "840a1a17",
   "metadata": {},
   "outputs": [],
   "source": [
    "predict_train = SARIMA_model_fit.predict(start=pd.to_datetime('2016-10-04'),end=pd.to_datetime('2021-01-04'))"
   ]
  },
  {
   "cell_type": "code",
   "execution_count": 62,
   "id": "f116819d",
   "metadata": {},
   "outputs": [
    {
     "data": {
      "text/plain": [
       "<AxesSubplot:xlabel='Date'>"
      ]
     },
     "execution_count": 62,
     "metadata": {},
     "output_type": "execute_result"
    },
    {
     "data": {
      "image/png": "[encoded data removed]",
      "text/plain": [
       "<Figure size 432x288 with 1 Axes>"
      ]
     },
     "metadata": {
      "needs_background": "light"
     },
     "output_type": "display_data"
    }
   ],
   "source": [
    "train_ar.plot()\n",
    "predict_train.plot()"
   ]
  },
  {
   "cell_type": "code",
   "execution_count": 63,
   "id": "4f02018f",
   "metadata": {},
   "outputs": [
    {
     "data": {
      "text/plain": [
       "1.630059835135477e+17"
      ]
     },
     "execution_count": 63,
     "metadata": {},
     "output_type": "execute_result"
    }
   ],
   "source": [
    "from sklearn.metrics import mean_absolute_percentage_error\n",
    "\n",
    "mean_absolute_percentage_error(train_ar,predict_train)*100"
   ]
  },
  {
   "cell_type": "code",
   "execution_count": 69,
   "id": "1edd33b5",
   "metadata": {},
   "outputs": [],
   "source": [
    "SARIMA_pred = SARIMA_model_fit.predict(1083,1308,typ='levels')"
   ]
  },
  {
   "cell_type": "code",
   "execution_count": 68,
   "id": "a603cd78",
   "metadata": {},
   "outputs": [
    {
     "data": {
      "text/plain": [
       "1.1206073510082845e+18"
      ]
     },
     "execution_count": 68,
     "metadata": {},
     "output_type": "execute_result"
    }
   ],
   "source": [
    "mean_absolute_percentage_error(test_ar,SARIMA_pred)*100"
   ]
  },
  {
   "cell_type": "code",
   "execution_count": null,
   "id": "257f0def",
   "metadata": {},
   "outputs": [],
   "source": []
  },
  {
   "cell_type": "code",
   "execution_count": null,
   "id": "38c76fbc",
   "metadata": {},
   "outputs": [],
   "source": []
  }
 ],
 "metadata": {
  "kernelspec": {
   "display_name": "Python 3",
   "language": "python",
   "name": "python3"
  },
  "language_info": {
   "codemirror_mode": {
    "name": "ipython",
    "version": 3
   },
   "file_extension": ".py",
   "mimetype": "text/x-python",
   "name": "python",
   "nbconvert_exporter": "python",
   "pygments_lexer": "ipython3",
   "version": "3.8.8"
  }
 },
 "nbformat": 4,
 "nbformat_minor": 5
}
